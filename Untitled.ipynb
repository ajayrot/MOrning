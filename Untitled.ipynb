{
 "cells": [
  {
   "cell_type": "markdown",
   "id": "53b02228",
   "metadata": {},
   "source": [
    "# Numpy Module:\n",
    "- Numpy Module is used for working with arrays\n",
    "- Numpy stands for nu erical python\n"
   ]
  },
  {
   "cell_type": "code",
   "execution_count": 2,
   "id": "c37b2793",
   "metadata": {},
   "outputs": [
    {
     "name": "stdout",
     "output_type": "stream",
     "text": [
      "[1 2 3 4 5]\n",
      "<class 'numpy.ndarray'>\n"
     ]
    }
   ],
   "source": [
    "import numpy as np\n",
    "l = [1,2,3,4,5]\n",
    "arr = np.array(l)\n",
    "print(arr)\n",
    "print(type(arr))"
   ]
  },
  {
   "cell_type": "code",
   "execution_count": 3,
   "id": "dcc780c5",
   "metadata": {},
   "outputs": [
    {
     "data": {
      "text/plain": [
       "[1, 2, 3, 4, 5, 6, 7, 8, 9, 10]"
      ]
     },
     "execution_count": 3,
     "metadata": {},
     "output_type": "execute_result"
    }
   ],
   "source": [
    "l = list(range(1,11))\n",
    "l"
   ]
  },
  {
   "cell_type": "code",
   "execution_count": 4,
   "id": "06e05baf",
   "metadata": {},
   "outputs": [
    {
     "data": {
      "text/plain": [
       "array([ 1,  2,  3,  4,  5,  6,  7,  8,  9, 10])"
      ]
     },
     "execution_count": 4,
     "metadata": {},
     "output_type": "execute_result"
    }
   ],
   "source": [
    "arr1 = np.arange(1,11)\n",
    "arr1"
   ]
  },
  {
   "cell_type": "markdown",
   "id": "5db143ad",
   "metadata": {},
   "source": [
    "# Dimensions In Arrays:\n"
   ]
  },
  {
   "cell_type": "code",
   "execution_count": 5,
   "id": "07258734",
   "metadata": {},
   "outputs": [
    {
     "name": "stdout",
     "output_type": "stream",
     "text": [
      "[1 2 3 4 5]\n"
     ]
    }
   ],
   "source": [
    "# 1-D\n",
    "arr = np.array([1,2,3,4,5])\n",
    "print(arr)"
   ]
  },
  {
   "cell_type": "code",
   "execution_count": 6,
   "id": "8cbcddef",
   "metadata": {},
   "outputs": [
    {
     "name": "stdout",
     "output_type": "stream",
     "text": [
      "[[1 2 3 4]\n",
      " [5 6 7 8]]\n"
     ]
    }
   ],
   "source": [
    "# 2-D\n",
    "arr1 = np.array([[1,2,3,4],[5,6,7,8]])\n",
    "print(arr1)"
   ]
  },
  {
   "cell_type": "code",
   "execution_count": 7,
   "id": "7895f0f2",
   "metadata": {},
   "outputs": [
    {
     "name": "stdout",
     "output_type": "stream",
     "text": [
      "[[[1 2 3]\n",
      "  [3 4 5]]\n",
      "\n",
      " [[5 6 7]\n",
      "  [7 8 9]]]\n"
     ]
    }
   ],
   "source": [
    "# 3-D\n",
    "arr2 = np.array([[[1,2,3],[3,4,5]],[[5,6,7],[7,8,9]]])\n",
    "print(arr2)"
   ]
  },
  {
   "cell_type": "code",
   "execution_count": 9,
   "id": "f789b57f",
   "metadata": {},
   "outputs": [
    {
     "name": "stdout",
     "output_type": "stream",
     "text": [
      "2\n",
      "5\n"
     ]
    }
   ],
   "source": [
    "# Access array elements:\n",
    "# 1-D\n",
    "arr = np.array([1,2,3,4,5])\n",
    "print(arr[1])\n",
    "print(arr[4])"
   ]
  },
  {
   "cell_type": "code",
   "execution_count": 10,
   "id": "6682aa17",
   "metadata": {},
   "outputs": [
    {
     "name": "stdout",
     "output_type": "stream",
     "text": [
      "4\n"
     ]
    }
   ],
   "source": [
    "# 2 - D:\n",
    "arr1 = np.array([[1,2,3,4],[5,6,7,8]])\n",
    "print(arr1[0,3])"
   ]
  },
  {
   "cell_type": "code",
   "execution_count": 12,
   "id": "9e5a2ab3",
   "metadata": {},
   "outputs": [
    {
     "name": "stdout",
     "output_type": "stream",
     "text": [
      "3\n",
      "6\n"
     ]
    }
   ],
   "source": [
    "#3-D\n",
    "arr2 = np.array([[[1,2,3],[3,4,5]],[[5,6,7],[7,8,9]]])\n",
    "print(arr2[0,0,2])\n",
    "print(arr2[1,0,1])"
   ]
  },
  {
   "cell_type": "code",
   "execution_count": 19,
   "id": "a4d67f9f",
   "metadata": {},
   "outputs": [
    {
     "name": "stdout",
     "output_type": "stream",
     "text": [
      "0\n",
      "[0.46984269 0.16847379 0.99508084 0.99239599]\n"
     ]
    }
   ],
   "source": [
    "from numpy import random\n",
    "print(random.randint(4))\n",
    "print(random.rand(4))"
   ]
  },
  {
   "cell_type": "code",
   "execution_count": 23,
   "id": "a02f4fcc",
   "metadata": {},
   "outputs": [
    {
     "name": "stdout",
     "output_type": "stream",
     "text": [
      "[90 52 69]\n",
      "[[19 42 66 47]\n",
      " [96  8 75 14]]\n",
      "[[[11 87]\n",
      "  [64 88]\n",
      "  [58 94]\n",
      "  [15 28]]\n",
      "\n",
      " [[ 7 72]\n",
      "  [88 58]\n",
      "  [18 61]\n",
      "  [88 19]]\n",
      "\n",
      " [[41 99]\n",
      "  [ 1 14]\n",
      "  [ 6 34]\n",
      "  [77 35]]]\n"
     ]
    }
   ],
   "source": [
    "# Create n dimensional array with random integers values\n",
    "print(random.randint(100,size = 3))\n",
    "print(random.randint(100,size = (2,4)))\n",
    "print(random.randint(100,size=(3,4,2)))"
   ]
  },
  {
   "cell_type": "code",
   "execution_count": 27,
   "id": "af879d39",
   "metadata": {},
   "outputs": [
    {
     "name": "stdout",
     "output_type": "stream",
     "text": [
      "0.4708622266827077\n",
      "[0.0364655  0.7854117  0.63634958]\n",
      "[[0.23183308 0.78477149 0.29771136 0.5846429 ]\n",
      " [0.63651689 0.2792618  0.21908864 0.06565906]\n",
      " [0.61462553 0.11262119 0.325333   0.41332109]]\n",
      "[[[0.85553644 0.17911558]\n",
      "  [0.69912935 0.18258741]\n",
      "  [0.69381143 0.0299003 ]\n",
      "  [0.93360165 0.59288378]]\n",
      "\n",
      " [[0.91026757 0.13704508]\n",
      "  [0.89896767 0.19685922]\n",
      "  [0.34295067 0.24154669]\n",
      "  [0.58695501 0.8984413 ]]\n",
      "\n",
      " [[0.76752255 0.59707465]\n",
      "  [0.5463127  0.95350376]\n",
      "  [0.70129837 0.64680132]\n",
      "  [0.33693411 0.62661434]]]\n"
     ]
    }
   ],
   "source": [
    "# Create n dimensinal array with flaot point value\n",
    "print(random.rand())\n",
    "print(random.rand(3))\n",
    "print(random.rand(3,4))\n",
    "print(random.rand(3,4,2))\n"
   ]
  },
  {
   "cell_type": "markdown",
   "id": "97eb1315",
   "metadata": {},
   "source": [
    "# Pandas Module:\n",
    "- used for working with data sets\n"
   ]
  },
  {
   "cell_type": "markdown",
   "id": "7ff3e170",
   "metadata": {},
   "source": [
    "### Create a data frame:\n"
   ]
  },
  {
   "cell_type": "code",
   "execution_count": 28,
   "id": "a5af7b0f",
   "metadata": {},
   "outputs": [
    {
     "data": {
      "text/html": [
       "<div>\n",
       "<style scoped>\n",
       "    .dataframe tbody tr th:only-of-type {\n",
       "        vertical-align: middle;\n",
       "    }\n",
       "\n",
       "    .dataframe tbody tr th {\n",
       "        vertical-align: top;\n",
       "    }\n",
       "\n",
       "    .dataframe thead th {\n",
       "        text-align: right;\n",
       "    }\n",
       "</style>\n",
       "<table border=\"1\" class=\"dataframe\">\n",
       "  <thead>\n",
       "    <tr style=\"text-align: right;\">\n",
       "      <th></th>\n",
       "      <th>Fisrt</th>\n",
       "      <th>Second</th>\n",
       "    </tr>\n",
       "  </thead>\n",
       "  <tbody>\n",
       "    <tr>\n",
       "      <th>a</th>\n",
       "      <td>1</td>\n",
       "      <td>5</td>\n",
       "    </tr>\n",
       "    <tr>\n",
       "      <th>b</th>\n",
       "      <td>2</td>\n",
       "      <td>6</td>\n",
       "    </tr>\n",
       "    <tr>\n",
       "      <th>c</th>\n",
       "      <td>3</td>\n",
       "      <td>7</td>\n",
       "    </tr>\n",
       "    <tr>\n",
       "      <th>d</th>\n",
       "      <td>4</td>\n",
       "      <td>8</td>\n",
       "    </tr>\n",
       "    <tr>\n",
       "      <th>e</th>\n",
       "      <td>5</td>\n",
       "      <td>9</td>\n",
       "    </tr>\n",
       "  </tbody>\n",
       "</table>\n",
       "</div>"
      ],
      "text/plain": [
       "   Fisrt  Second\n",
       "a      1       5\n",
       "b      2       6\n",
       "c      3       7\n",
       "d      4       8\n",
       "e      5       9"
      ]
     },
     "execution_count": 28,
     "metadata": {},
     "output_type": "execute_result"
    }
   ],
   "source": [
    "import pandas as pd\n",
    "d1 = {'a':1,\"b\":2,\"c\":3,\"d\":4,\"e\":5}\n",
    "d2 = {\"a\":5,\"b\":6,\"c\":7,\"d\":8,\"e\":9}\n",
    "data = {\"Fisrt\":d1,\"Second\":d2}\n",
    "df = pd.DataFrame(data)\n",
    "df"
   ]
  },
  {
   "cell_type": "code",
   "execution_count": 29,
   "id": "849acb57",
   "metadata": {
    "scrolled": true
   },
   "outputs": [
    {
     "data": {
      "text/html": [
       "<div>\n",
       "<style scoped>\n",
       "    .dataframe tbody tr th:only-of-type {\n",
       "        vertical-align: middle;\n",
       "    }\n",
       "\n",
       "    .dataframe tbody tr th {\n",
       "        vertical-align: top;\n",
       "    }\n",
       "\n",
       "    .dataframe thead th {\n",
       "        text-align: right;\n",
       "    }\n",
       "</style>\n",
       "<table border=\"1\" class=\"dataframe\">\n",
       "  <thead>\n",
       "    <tr style=\"text-align: right;\">\n",
       "      <th></th>\n",
       "      <th>Name</th>\n",
       "      <th>Address</th>\n",
       "    </tr>\n",
       "  </thead>\n",
       "  <tbody>\n",
       "    <tr>\n",
       "      <th>0</th>\n",
       "      <td>Ajay</td>\n",
       "      <td>Vzm</td>\n",
       "    </tr>\n",
       "    <tr>\n",
       "      <th>1</th>\n",
       "      <td>Raj</td>\n",
       "      <td>Vizag</td>\n",
       "    </tr>\n",
       "    <tr>\n",
       "      <th>2</th>\n",
       "      <td>Ram</td>\n",
       "      <td>Hyd</td>\n",
       "    </tr>\n",
       "  </tbody>\n",
       "</table>\n",
       "</div>"
      ],
      "text/plain": [
       "   Name Address\n",
       "0  Ajay     Vzm\n",
       "1   Raj   Vizag\n",
       "2   Ram     Hyd"
      ]
     },
     "execution_count": 29,
     "metadata": {},
     "output_type": "execute_result"
    }
   ],
   "source": [
    "d = {\"Name\":[\"Ajay\",\"Raj\",\"Ram\"],\"Address\":['Vzm',\"Vizag\",\"Hyd\"]}\n",
    "df1 = pd.DataFrame(d)\n",
    "df1"
   ]
  },
  {
   "cell_type": "code",
   "execution_count": 30,
   "id": "5177a26a",
   "metadata": {},
   "outputs": [
    {
     "data": {
      "text/html": [
       "<div>\n",
       "<style scoped>\n",
       "    .dataframe tbody tr th:only-of-type {\n",
       "        vertical-align: middle;\n",
       "    }\n",
       "\n",
       "    .dataframe tbody tr th {\n",
       "        vertical-align: top;\n",
       "    }\n",
       "\n",
       "    .dataframe thead th {\n",
       "        text-align: right;\n",
       "    }\n",
       "</style>\n",
       "<table border=\"1\" class=\"dataframe\">\n",
       "  <thead>\n",
       "    <tr style=\"text-align: right;\">\n",
       "      <th></th>\n",
       "      <th>Column1</th>\n",
       "      <th>Column2</th>\n",
       "      <th>Column3</th>\n",
       "    </tr>\n",
       "  </thead>\n",
       "  <tbody>\n",
       "    <tr>\n",
       "      <th>0</th>\n",
       "      <td>a</td>\n",
       "      <td>1</td>\n",
       "      <td>1.2</td>\n",
       "    </tr>\n",
       "    <tr>\n",
       "      <th>1</th>\n",
       "      <td>b</td>\n",
       "      <td>2</td>\n",
       "      <td>1.3</td>\n",
       "    </tr>\n",
       "    <tr>\n",
       "      <th>2</th>\n",
       "      <td>c</td>\n",
       "      <td>3</td>\n",
       "      <td>1.4</td>\n",
       "    </tr>\n",
       "    <tr>\n",
       "      <th>3</th>\n",
       "      <td>d</td>\n",
       "      <td>4</td>\n",
       "      <td>1.5</td>\n",
       "    </tr>\n",
       "    <tr>\n",
       "      <th>4</th>\n",
       "      <td>e</td>\n",
       "      <td>5</td>\n",
       "      <td>1.6</td>\n",
       "    </tr>\n",
       "  </tbody>\n",
       "</table>\n",
       "</div>"
      ],
      "text/plain": [
       "  Column1  Column2  Column3\n",
       "0       a        1      1.2\n",
       "1       b        2      1.3\n",
       "2       c        3      1.4\n",
       "3       d        4      1.5\n",
       "4       e        5      1.6"
      ]
     },
     "execution_count": 30,
     "metadata": {},
     "output_type": "execute_result"
    }
   ],
   "source": [
    "# Series\n",
    "s1 = pd.Series([1,2,3,4,5])\n",
    "s2 = pd.Series([1.2,1.3,1.4,1.5,1.6])\n",
    "s3 = pd.Series(['a','b','c','d','e'])\n",
    "data = {\"Column1\":s3,\"Column2\":s1,\"Column3\":s2}\n",
    "df = pd.DataFrame(data)\n",
    "df"
   ]
  },
  {
   "cell_type": "code",
   "execution_count": 31,
   "id": "9c034ed5",
   "metadata": {},
   "outputs": [
    {
     "data": {
      "text/plain": [
       "0    1\n",
       "1    2\n",
       "2    3\n",
       "3    4\n",
       "4    5\n",
       "Name: Column2, dtype: int64"
      ]
     },
     "execution_count": 31,
     "metadata": {},
     "output_type": "execute_result"
    }
   ],
   "source": [
    "df[\"Column2\"]"
   ]
  },
  {
   "cell_type": "code",
   "execution_count": 32,
   "id": "3768739d",
   "metadata": {},
   "outputs": [
    {
     "data": {
      "text/plain": [
       "0    1.2\n",
       "1    1.3\n",
       "2    1.4\n",
       "3    1.5\n",
       "4    1.6\n",
       "Name: Column3, dtype: float64"
      ]
     },
     "execution_count": 32,
     "metadata": {},
     "output_type": "execute_result"
    }
   ],
   "source": [
    "df[\"Column3\"]"
   ]
  },
  {
   "cell_type": "code",
   "execution_count": 33,
   "id": "05f976f6",
   "metadata": {},
   "outputs": [
    {
     "data": {
      "text/plain": [
       "4"
      ]
     },
     "execution_count": 33,
     "metadata": {},
     "output_type": "execute_result"
    }
   ],
   "source": [
    "df.loc[3,\"Column2\"]"
   ]
  },
  {
   "cell_type": "code",
   "execution_count": 34,
   "id": "13f55cda",
   "metadata": {},
   "outputs": [
    {
     "data": {
      "text/html": [
       "<div>\n",
       "<style scoped>\n",
       "    .dataframe tbody tr th:only-of-type {\n",
       "        vertical-align: middle;\n",
       "    }\n",
       "\n",
       "    .dataframe tbody tr th {\n",
       "        vertical-align: top;\n",
       "    }\n",
       "\n",
       "    .dataframe thead th {\n",
       "        text-align: right;\n",
       "    }\n",
       "</style>\n",
       "<table border=\"1\" class=\"dataframe\">\n",
       "  <thead>\n",
       "    <tr style=\"text-align: right;\">\n",
       "      <th></th>\n",
       "      <th>Column1</th>\n",
       "      <th>Column2</th>\n",
       "      <th>Column3</th>\n",
       "    </tr>\n",
       "  </thead>\n",
       "  <tbody>\n",
       "    <tr>\n",
       "      <th>0</th>\n",
       "      <td>a</td>\n",
       "      <td>1</td>\n",
       "      <td>1.2</td>\n",
       "    </tr>\n",
       "    <tr>\n",
       "      <th>1</th>\n",
       "      <td>b</td>\n",
       "      <td>2</td>\n",
       "      <td>1.3</td>\n",
       "    </tr>\n",
       "    <tr>\n",
       "      <th>2</th>\n",
       "      <td>c</td>\n",
       "      <td>3</td>\n",
       "      <td>1.4</td>\n",
       "    </tr>\n",
       "    <tr>\n",
       "      <th>3</th>\n",
       "      <td>d</td>\n",
       "      <td>4</td>\n",
       "      <td>1.5</td>\n",
       "    </tr>\n",
       "  </tbody>\n",
       "</table>\n",
       "</div>"
      ],
      "text/plain": [
       "  Column1  Column2  Column3\n",
       "0       a        1      1.2\n",
       "1       b        2      1.3\n",
       "2       c        3      1.4\n",
       "3       d        4      1.5"
      ]
     },
     "execution_count": 34,
     "metadata": {},
     "output_type": "execute_result"
    }
   ],
   "source": [
    "df.loc[0:3]"
   ]
  },
  {
   "cell_type": "code",
   "execution_count": 35,
   "id": "5d9a54ca",
   "metadata": {},
   "outputs": [
    {
     "data": {
      "text/plain": [
       "Column1      b\n",
       "Column2      2\n",
       "Column3    1.3\n",
       "Name: 1, dtype: object"
      ]
     },
     "execution_count": 35,
     "metadata": {},
     "output_type": "execute_result"
    }
   ],
   "source": [
    "# iloc\n",
    "df.iloc[1]"
   ]
  },
  {
   "cell_type": "code",
   "execution_count": 36,
   "id": "5c18ea13",
   "metadata": {},
   "outputs": [
    {
     "data": {
      "text/html": [
       "<div>\n",
       "<style scoped>\n",
       "    .dataframe tbody tr th:only-of-type {\n",
       "        vertical-align: middle;\n",
       "    }\n",
       "\n",
       "    .dataframe tbody tr th {\n",
       "        vertical-align: top;\n",
       "    }\n",
       "\n",
       "    .dataframe thead th {\n",
       "        text-align: right;\n",
       "    }\n",
       "</style>\n",
       "<table border=\"1\" class=\"dataframe\">\n",
       "  <thead>\n",
       "    <tr style=\"text-align: right;\">\n",
       "      <th></th>\n",
       "      <th>Column1</th>\n",
       "      <th>Column2</th>\n",
       "      <th>Column3</th>\n",
       "    </tr>\n",
       "  </thead>\n",
       "  <tbody>\n",
       "    <tr>\n",
       "      <th>0</th>\n",
       "      <td>a</td>\n",
       "      <td>1</td>\n",
       "      <td>1.2</td>\n",
       "    </tr>\n",
       "    <tr>\n",
       "      <th>3</th>\n",
       "      <td>d</td>\n",
       "      <td>4</td>\n",
       "      <td>1.5</td>\n",
       "    </tr>\n",
       "    <tr>\n",
       "      <th>2</th>\n",
       "      <td>c</td>\n",
       "      <td>3</td>\n",
       "      <td>1.4</td>\n",
       "    </tr>\n",
       "  </tbody>\n",
       "</table>\n",
       "</div>"
      ],
      "text/plain": [
       "  Column1  Column2  Column3\n",
       "0       a        1      1.2\n",
       "3       d        4      1.5\n",
       "2       c        3      1.4"
      ]
     },
     "execution_count": 36,
     "metadata": {},
     "output_type": "execute_result"
    }
   ],
   "source": [
    "df.sample(3)"
   ]
  },
  {
   "cell_type": "code",
   "execution_count": 39,
   "id": "4f8a5574",
   "metadata": {},
   "outputs": [
    {
     "name": "stdout",
     "output_type": "stream",
     "text": [
      "  Column1  Column2  Column3\n",
      "0       a        1      1.2\n",
      "1       b        2      1.3\n",
      "2       c        3      1.4\n",
      "3       d        4      1.5\n",
      "4       e        5      1.6\n",
      "  Column1  Column2  Column3\n",
      "0       a        1      1.2\n",
      "1       b        2      1.3\n",
      "2       c        3      1.4\n",
      "3       d        4      1.5\n",
      "4       e        5      1.6\n"
     ]
    }
   ],
   "source": [
    "print(df.head())\n",
    "print(df.tail())"
   ]
  },
  {
   "cell_type": "markdown",
   "id": "c1803a29",
   "metadata": {},
   "source": [
    "# Matplotlib:\n",
    "- Used for to draw graphs"
   ]
  },
  {
   "cell_type": "code",
   "execution_count": 42,
   "id": "f36227e8",
   "metadata": {},
   "outputs": [
    {
     "data": {
      "image/png": "[encoded data removed]",
      "text/plain": [
       "<Figure size 432x288 with 1 Axes>"
      ]
     },
     "metadata": {
      "needs_background": "light"
     },
     "output_type": "display_data"
    }
   ],
   "source": [
    "import matplotlib.pyplot as plt\n",
    "import numpy as np\n",
    "x = np.array([1,3,5,7,9])\n",
    "y = np.array([2,4,6,7,9])\n",
    "\n",
    "plt.title(\"Graph\")\n",
    "plt.xlabel(\"X_Axis\")\n",
    "plt.ylabel(\"Y_Axis\")\n",
    "plt.plot(x,y)\n",
    "plt.show()"
   ]
  },
  {
   "cell_type": "code",
   "execution_count": 43,
   "id": "0430d2f6",
   "metadata": {},
   "outputs": [
    {
     "data": {
      "image/png": "[encoded data removed]",
      "text/plain": [
       "<Figure size 432x288 with 1 Axes>"
      ]
     },
     "metadata": {
      "needs_background": "light"
     },
     "output_type": "display_data"
    }
   ],
   "source": [
    "y = np.array([2,4,6,7,9]) # X_Axis :0 1 2 3 4 \n",
    "\n",
    "plt.title(\"Graph\")\n",
    "plt.xlabel(\"X_Axis\")\n",
    "plt.ylabel(\"Y_Axis\")\n",
    "plt.plot(x,y)\n",
    "plt.show()"
   ]
  },
  {
   "cell_type": "code",
   "execution_count": 47,
   "id": "d38ea7c8",
   "metadata": {},
   "outputs": [
    {
     "data": {
      "text/plain": [
       "[<matplotlib.lines.Line2D at 0x2596486dd00>]"
      ]
     },
     "execution_count": 47,
     "metadata": {},
     "output_type": "execute_result"
    },
    {
     "data": {
      "image/png": "[encoded data removed]",
      "text/plain": [
       "<Figure size 432x288 with 6 Axes>"
      ]
     },
     "metadata": {
      "needs_background": "light"
     },
     "output_type": "display_data"
    }
   ],
   "source": [
    "# Subplot\n",
    "# Plot1:\n",
    "x = np.array([1,3,5,7,9])\n",
    "y = np.array([2,5,7,9,5])\n",
    "plt.subplot(2,3,1)\n",
    "plt.plot(x,y)\n",
    "\n",
    "# plot2\n",
    "x = np.array([1,3,5,7,9])\n",
    "y = np.array([2,5,7,9,5])\n",
    "plt.subplot(2,3,2)\n",
    "plt.plot(x,y)\n",
    "\n",
    "# Plot3\n",
    "x = np.array([1,3,5,7,9])\n",
    "y = np.array([2,5,7,9,5])\n",
    "plt.subplot(2,3,3)\n",
    "plt.plot(x,y)\n",
    "\n",
    "# Plot4\n",
    "x = np.array([1,3,5,7,9])\n",
    "y = np.array([2,5,7,9,5])\n",
    "plt.subplot(2,3,4)\n",
    "plt.plot(x,y)\n",
    "\n",
    "# Plot5\n",
    "x = np.array([1,3,5,7,9])\n",
    "y = np.array([2,5,7,9,5])\n",
    "plt.subplot(2,3,5)\n",
    "plt.plot(x,y)\n",
    "\n",
    "# Plot6\n",
    "x = np.array([1,3,5,7,9])\n",
    "y = np.array([2,5,7,9,5])\n",
    "plt.subplot(2,3,6)\n",
    "plt.plot(x,y)\n"
   ]
  },
  {
   "cell_type": "code",
   "execution_count": null,
   "id": "13f55c60",
   "metadata": {},
   "outputs": [],
   "source": []
  }
 ],
 "metadata": {
  "kernelspec": {
   "display_name": "Python 3 (ipykernel)",
   "language": "python",
   "name": "python3"
  },
  "language_info": {
   "codemirror_mode": {
    "name": "ipython",
    "version": 3
   },
   "file_extension": ".py",
   "mimetype": "text/x-python",
   "name": "python",
   "nbconvert_exporter": "python",
   "pygments_lexer": "ipython3",
   "version": "3.9.7"
  }
 },
 "nbformat": 4,
 "nbformat_minor": 5
}
